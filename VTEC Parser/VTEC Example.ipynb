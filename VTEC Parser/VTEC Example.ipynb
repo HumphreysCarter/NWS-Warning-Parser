{
 "cells": [
  {
   "cell_type": "code",
   "execution_count": 7,
   "metadata": {},
   "outputs": [],
   "source": [
    "import VTEC\n",
    "import pytz"
   ]
  },
  {
   "cell_type": "code",
   "execution_count": 3,
   "metadata": {},
   "outputs": [
    {
     "data": {
      "text/plain": [
       "{'VTEC': '/O.NEW.KBGM.SV.W.0054.200708T2218Z-200708T2245Z/',\n",
       " 'ProductClass': 'O',\n",
       " 'Actions': 'NEW',\n",
       " 'OfficeID': 'KBGM',\n",
       " 'Phenomena': 'SV',\n",
       " 'Significance': 'W',\n",
       " 'ETN': 54,\n",
       " 'EventBeginning': datetime.datetime(2020, 7, 8, 22, 18, tzinfo=<UTC>),\n",
       " 'EventEnding': datetime.datetime(2020, 7, 8, 22, 45, tzinfo=<UTC>)}"
      ]
     },
     "execution_count": 3,
     "metadata": {},
     "output_type": "execute_result"
    }
   ],
   "source": [
    "vtec=VTEC.parseVTEC('/O.NEW.KBGM.SV.W.0054.200708T2218Z-200708T2245Z/')\n",
    "vtec"
   ]
  },
  {
   "cell_type": "code",
   "execution_count": 8,
   "metadata": {},
   "outputs": [
    {
     "data": {
      "text/plain": [
       "datetime.datetime(2020, 7, 8, 18, 18, tzinfo=<DstTzInfo 'US/Eastern' EDT-1 day, 20:00:00 DST>)"
      ]
     },
     "execution_count": 8,
     "metadata": {},
     "output_type": "execute_result"
    }
   ],
   "source": [
    "vtec['EventBeginning'].astimezone(pytz.timezone('US/Eastern'))"
   ]
  },
  {
   "cell_type": "code",
   "execution_count": null,
   "metadata": {},
   "outputs": [],
   "source": []
  }
 ],
 "metadata": {
  "kernelspec": {
   "display_name": "Python 3",
   "language": "python",
   "name": "python3"
  },
  "language_info": {
   "codemirror_mode": {
    "name": "ipython",
    "version": 3
   },
   "file_extension": ".py",
   "mimetype": "text/x-python",
   "name": "python",
   "nbconvert_exporter": "python",
   "pygments_lexer": "ipython3",
   "version": "3.7.6"
  }
 },
 "nbformat": 4,
 "nbformat_minor": 4
}
